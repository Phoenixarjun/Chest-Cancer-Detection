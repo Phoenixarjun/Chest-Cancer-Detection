{
 "cells": [
  {
   "cell_type": "code",
   "execution_count": 1,
   "id": "4a2527b4",
   "metadata": {},
   "outputs": [],
   "source": [
    "import os"
   ]
  },
  {
   "cell_type": "code",
   "execution_count": 2,
   "id": "11168848",
   "metadata": {},
   "outputs": [
    {
     "data": {
      "text/plain": [
       "\"c:\\\\Arjun's Work\\\\Chest-Cancer-Detection\\\\research\""
      ]
     },
     "execution_count": 2,
     "metadata": {},
     "output_type": "execute_result"
    }
   ],
   "source": [
    "%pwd"
   ]
  },
  {
   "cell_type": "code",
   "execution_count": 3,
   "id": "3a2665c8",
   "metadata": {},
   "outputs": [],
   "source": [
    "os.chdir('../')"
   ]
  },
  {
   "cell_type": "code",
   "execution_count": 4,
   "id": "53574f34",
   "metadata": {},
   "outputs": [
    {
     "data": {
      "text/plain": [
       "\"c:\\\\Arjun's Work\\\\Chest-Cancer-Detection\""
      ]
     },
     "execution_count": 4,
     "metadata": {},
     "output_type": "execute_result"
    }
   ],
   "source": [
    "%pwd"
   ]
  },
  {
   "cell_type": "code",
   "execution_count": 5,
   "id": "fcc62bb0",
   "metadata": {},
   "outputs": [],
   "source": [
    "from dataclasses import dataclass\n",
    "from pathlib import Path\n",
    "\n",
    "\n",
    "@dataclass(frozen=True)\n",
    "class DataIngestionConfig:\n",
    "    root_dir: Path\n",
    "    source_URL: str\n",
    "    local_data_file: Path\n",
    "    unzip_dir: Path"
   ]
  },
  {
   "cell_type": "code",
   "execution_count": 6,
   "id": "8f9e32f8",
   "metadata": {},
   "outputs": [],
   "source": [
    "from chest_cancer_detection.constants import *\n",
    "from chest_cancer_detection.utils.common import read_yaml, create_directories"
   ]
  },
  {
   "cell_type": "code",
   "execution_count": 7,
   "id": "e1289b92",
   "metadata": {},
   "outputs": [],
   "source": [
    "class ConfigurationManager:\n",
    "    def __init__(\n",
    "        self,\n",
    "        config_filepath = CONFIG_FILE_PATH,\n",
    "        params_filepath = PARAMS_FILE_PATH):\n",
    "\n",
    "        self.config = read_yaml(config_filepath)\n",
    "        self.params = read_yaml(params_filepath)\n",
    "\n",
    "        create_directories([self.config.artifacts_root])\n",
    "\n",
    "\n",
    "    \n",
    "    def get_data_ingestion_config(self) -> DataIngestionConfig:\n",
    "        config = self.config.data_ingestion\n",
    "\n",
    "        create_directories([config.root_dir])\n",
    "\n",
    "        data_ingestion_config = DataIngestionConfig(\n",
    "            root_dir=config.root_dir,\n",
    "            source_URL=config.source_URL,\n",
    "            local_data_file=config.local_data_file,\n",
    "            unzip_dir=config.unzip_dir \n",
    "        )\n",
    "\n",
    "        return data_ingestion_config\n",
    "      "
   ]
  },
  {
   "cell_type": "code",
   "execution_count": 8,
   "id": "9ecb1a84",
   "metadata": {},
   "outputs": [],
   "source": [
    "import os\n",
    "import zipfile\n",
    "import gdown\n",
    "from chest_cancer_detection import logger\n",
    "from chest_cancer_detection.utils.common import get_size"
   ]
  },
  {
   "cell_type": "markdown",
   "id": "8e5d6bb0",
   "metadata": {},
   "source": [
    "<p>I used a 7-Zip archive, which is why I needed a specialized package to extract it otherwise, the standard method would have worked fine</P>"
   ]
  },
  {
   "cell_type": "code",
   "execution_count": 18,
   "id": "152d5a55",
   "metadata": {},
   "outputs": [
    {
     "name": "stdout",
     "output_type": "stream",
     "text": [
      "Collecting py7zr\n",
      "  Downloading py7zr-1.0.0-py3-none-any.whl.metadata (17 kB)\n",
      "Collecting texttable (from py7zr)\n",
      "  Using cached texttable-1.7.0-py2.py3-none-any.whl.metadata (9.8 kB)\n",
      "Collecting pycryptodomex>=3.20.0 (from py7zr)\n",
      "  Downloading pycryptodomex-3.23.0-cp37-abi3-win_amd64.whl.metadata (3.5 kB)\n",
      "Collecting brotli>=1.1.0 (from py7zr)\n",
      "  Downloading Brotli-1.1.0-cp310-cp310-win_amd64.whl.metadata (5.6 kB)\n",
      "Requirement already satisfied: psutil in c:\\users\\phoen\\anaconda3\\envs\\chest-cancer-detection\\lib\\site-packages (from py7zr) (7.0.0)\n",
      "Collecting pyzstd>=0.16.1 (from py7zr)\n",
      "  Downloading pyzstd-0.17.0-cp310-cp310-win_amd64.whl.metadata (2.6 kB)\n",
      "Collecting pyppmd<1.3.0,>=1.1.0 (from py7zr)\n",
      "  Downloading pyppmd-1.2.0-cp310-cp310-win_amd64.whl.metadata (5.6 kB)\n",
      "Collecting pybcj<1.1.0,>=1.0.0 (from py7zr)\n",
      "  Downloading pybcj-1.0.6-cp310-cp310-win_amd64.whl.metadata (3.8 kB)\n",
      "Collecting multivolumefile>=0.2.3 (from py7zr)\n",
      "  Using cached multivolumefile-0.2.3-py3-none-any.whl.metadata (6.3 kB)\n",
      "Collecting inflate64<1.1.0,>=1.0.0 (from py7zr)\n",
      "  Downloading inflate64-1.0.3-cp310-cp310-win_amd64.whl.metadata (4.5 kB)\n",
      "Requirement already satisfied: typing-extensions>=4.13.2 in c:\\users\\phoen\\anaconda3\\envs\\chest-cancer-detection\\lib\\site-packages (from pyzstd>=0.16.1->py7zr) (4.14.0)\n",
      "Downloading py7zr-1.0.0-py3-none-any.whl (69 kB)\n",
      "Downloading inflate64-1.0.3-cp310-cp310-win_amd64.whl (35 kB)\n",
      "Downloading pybcj-1.0.6-cp310-cp310-win_amd64.whl (24 kB)\n",
      "Downloading pyppmd-1.2.0-cp310-cp310-win_amd64.whl (46 kB)\n",
      "Downloading Brotli-1.1.0-cp310-cp310-win_amd64.whl (357 kB)\n",
      "Using cached multivolumefile-0.2.3-py3-none-any.whl (17 kB)\n",
      "Downloading pycryptodomex-3.23.0-cp37-abi3-win_amd64.whl (1.8 MB)\n",
      "   ---------------------------------------- 0.0/1.8 MB ? eta -:--:--\n",
      "   ----------------------- ---------------- 1.0/1.8 MB 5.0 MB/s eta 0:00:01\n",
      "   ---------------------------------------- 1.8/1.8 MB 4.3 MB/s eta 0:00:00\n",
      "Downloading pyzstd-0.17.0-cp310-cp310-win_amd64.whl (246 kB)\n",
      "Using cached texttable-1.7.0-py2.py3-none-any.whl (10 kB)\n",
      "Installing collected packages: texttable, brotli, pyzstd, pyppmd, pycryptodomex, pybcj, multivolumefile, inflate64, py7zr\n",
      "\n",
      "   ------------- -------------------------- 3/9 [pyppmd]\n",
      "   ----------------- ---------------------- 4/9 [pycryptodomex]\n",
      "   ----------------- ---------------------- 4/9 [pycryptodomex]\n",
      "   ----------------- ---------------------- 4/9 [pycryptodomex]\n",
      "   ----------------- ---------------------- 4/9 [pycryptodomex]\n",
      "   ----------------- ---------------------- 4/9 [pycryptodomex]\n",
      "   ----------------- ---------------------- 4/9 [pycryptodomex]\n",
      "   ----------------- ---------------------- 4/9 [pycryptodomex]\n",
      "   ----------------- ---------------------- 4/9 [pycryptodomex]\n",
      "   ----------------- ---------------------- 4/9 [pycryptodomex]\n",
      "   ----------------- ---------------------- 4/9 [pycryptodomex]\n",
      "   ----------------- ---------------------- 4/9 [pycryptodomex]\n",
      "   ----------------------------------- ---- 8/9 [py7zr]\n",
      "   ---------------------------------------- 9/9 [py7zr]\n",
      "\n",
      "Successfully installed brotli-1.1.0 inflate64-1.0.3 multivolumefile-0.2.3 py7zr-1.0.0 pybcj-1.0.6 pycryptodomex-3.23.0 pyppmd-1.2.0 pyzstd-0.17.0 texttable-1.7.0\n"
     ]
    }
   ],
   "source": [
    "!pip install py7zr"
   ]
  },
  {
   "cell_type": "code",
   "execution_count": 19,
   "id": "ce1f8e78",
   "metadata": {},
   "outputs": [],
   "source": [
    "import py7zr\n",
    "class DataIngestion:\n",
    "    def __init__(self, config: DataIngestionConfig):\n",
    "        self.config = config\n",
    "\n",
    "\n",
    "    \n",
    "     \n",
    "    def download_file(self)-> str:\n",
    "        '''\n",
    "        Fetch data from the url\n",
    "        '''\n",
    "\n",
    "        try: \n",
    "            dataset_url = self.config.source_URL\n",
    "            zip_download_dir = self.config.local_data_file\n",
    "            os.makedirs(\"artifacts/data_ingestion\", exist_ok=True)\n",
    "            logger.info(f\"Downloading data from {dataset_url} into file {zip_download_dir}\")\n",
    "\n",
    "            file_id = dataset_url.split(\"/\")[-2]\n",
    "            prefix = 'https://drive.google.com/uc?/export=download&id='\n",
    "            gdown.download(prefix+file_id,zip_download_dir)\n",
    "\n",
    "            logger.info(f\"Downloaded data from {dataset_url} into file {zip_download_dir}\")\n",
    "\n",
    "        except Exception as e:\n",
    "            raise e\n",
    "        \n",
    "    \n",
    "    def extract_zip_file(self):\n",
    "        \"\"\"\n",
    "        Extracts .7z file into the data directory\n",
    "        \"\"\"\n",
    "        unzip_path = self.config.unzip_dir\n",
    "        os.makedirs(unzip_path, exist_ok=True)\n",
    "        \n",
    "        logger.info(f\"Extracting .7z file to {unzip_path}\")\n",
    "        with py7zr.SevenZipFile(self.config.local_data_file, mode='r') as archive:\n",
    "            archive.extractall(path=unzip_path)\n",
    "        logger.info(f\"Extraction complete: {unzip_path}\")"
   ]
  },
  {
   "cell_type": "code",
   "execution_count": 20,
   "id": "6acd57af",
   "metadata": {},
   "outputs": [
    {
     "name": "stdout",
     "output_type": "stream",
     "text": [
      "[2025-06-18 12:19:47,598: INFO: common: yaml file: config\\config.yaml loaded successfully]\n",
      "[2025-06-18 12:19:47,600: INFO: common: yaml file: params.yaml loaded successfully]\n",
      "[2025-06-18 12:19:47,603: INFO: common: created directory at: artifacts]\n",
      "[2025-06-18 12:19:47,605: INFO: common: created directory at: artifacts/data_ingestion]\n",
      "[2025-06-18 12:19:47,607: INFO: 4101888485: Downloading data from https://drive.google.com/file/d/1-qbnpa-TAquDxN3rNyQ7h6nF65RK3F-I/view?usp=sharing into file artifacts/data_ingestion/data.zip]\n"
     ]
    },
    {
     "name": "stderr",
     "output_type": "stream",
     "text": [
      "Downloading...\n",
      "From: https://drive.google.com/uc?/export=download&id=1-qbnpa-TAquDxN3rNyQ7h6nF65RK3F-I\n",
      "To: c:\\Arjun's Work\\Chest-Cancer-Detection\\artifacts\\data_ingestion\\data.zip\n",
      "100%|██████████| 44.1M/44.1M [00:12<00:00, 3.60MB/s]\n"
     ]
    },
    {
     "name": "stdout",
     "output_type": "stream",
     "text": [
      "[2025-06-18 12:20:11,461: INFO: 4101888485: Downloaded data from https://drive.google.com/file/d/1-qbnpa-TAquDxN3rNyQ7h6nF65RK3F-I/view?usp=sharing into file artifacts/data_ingestion/data.zip]\n",
      "[2025-06-18 12:20:11,463: INFO: 4101888485: Extracting .7z file to artifacts/data_ingestion]\n",
      "[2025-06-18 12:20:14,564: INFO: 4101888485: Extraction complete: artifacts/data_ingestion]\n"
     ]
    }
   ],
   "source": [
    "import zipfile\n",
    "\n",
    "try:\n",
    "    config = ConfigurationManager()\n",
    "    data_ingestion_config = config.get_data_ingestion_config()\n",
    "    data_ingestion = DataIngestion(config=data_ingestion_config)\n",
    "    data_ingestion.download_file()\n",
    "    try:\n",
    "        data_ingestion.extract_zip_file()\n",
    "    except zipfile.BadZipFile:\n",
    "        print(\"Downloaded file is not a valid zip file. Please check the download URL or file content.\")\n",
    "except Exception as e:\n",
    "    raise e"
   ]
  }
 ],
 "metadata": {
  "kernelspec": {
   "display_name": "chest-cancer-detection",
   "language": "python",
   "name": "python3"
  },
  "language_info": {
   "codemirror_mode": {
    "name": "ipython",
    "version": 3
   },
   "file_extension": ".py",
   "mimetype": "text/x-python",
   "name": "python",
   "nbconvert_exporter": "python",
   "pygments_lexer": "ipython3",
   "version": "3.10.18"
  }
 },
 "nbformat": 4,
 "nbformat_minor": 5
}
